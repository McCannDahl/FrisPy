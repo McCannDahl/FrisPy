{
 "cells": [
  {
   "cell_type": "markdown",
   "metadata": {},
   "source": [
    "This notebook is just to use `timeit` to time small functions and figure out what are the slowest in the package. It is not for demonstrative purposes."
   ]
  },
  {
   "cell_type": "code",
   "execution_count": null,
   "metadata": {},
   "outputs": [],
   "source": [
    "import frispy\n",
    "import timeit"
   ]
  },
  {
   "cell_type": "code",
   "execution_count": null,
   "metadata": {},
   "outputs": [],
   "source": [
    "%load_ext autoreload\n",
    "%autoreload 2"
   ]
  },
  {
   "cell_type": "code",
   "execution_count": null,
   "metadata": {},
   "outputs": [],
   "source": [
    "import numpy as np"
   ]
  },
  {
   "cell_type": "code",
   "execution_count": null,
   "metadata": {},
   "outputs": [],
   "source": [
    "def do_timeit(fname, number=100):\n",
    "    setup = f\"from __main__ import {fname}\"\n",
    "    t = timeit.timeit(f\"{fname}()\", number=number, setup=setup)\n",
    "    return f\"{fname}: {number} iterations took {t:.4f} seconds; {t/number:.2e} s/iter\""
   ]
  },
  {
   "cell_type": "code",
   "execution_count": null,
   "metadata": {},
   "outputs": [],
   "source": [
    "trajectory = frispy.Trajectory()\n",
    "phi = np.pi / 2.\n",
    "theta = np.pi / 4.\n",
    "vel = np.random.rand(3)\n",
    "w = np.random.rand(3)\n",
    "\n",
    "def calc_intermediate_quantities():\n",
    "    _ = trajectory.calculate_intermediate_quantities(phi, theta, vel, w)"
   ]
  },
  {
   "cell_type": "code",
   "execution_count": null,
   "metadata": {},
   "outputs": [],
   "source": [
    "def calc_R():\n",
    "    _ = trajectory.rotation_matrix(0.12324, 0.9874)\n",
    "\n",
    "print(do_timeit(\"calc_R\", 626))"
   ]
  },
  {
   "cell_type": "code",
   "execution_count": null,
   "metadata": {},
   "outputs": [],
   "source": [
    "print(do_timeit(\"calc_intermediate_quantities\", 626))"
   ]
  },
  {
   "cell_type": "code",
   "execution_count": null,
   "metadata": {},
   "outputs": [],
   "source": [
    "eom = frispy.EOM()\n",
    "res = eom.compute_forces(phi, theta, vel, w)\n",
    "\n",
    "def compute_forces():\n",
    "    _ = eom.compute_forces(phi, theta, vel, w)\n",
    "\n",
    "def compute_torques():\n",
    "    _ = eom.compute_torques(vel, w, res)"
   ]
  },
  {
   "cell_type": "code",
   "execution_count": null,
   "metadata": {},
   "outputs": [],
   "source": [
    "print(do_timeit(\"compute_forces\", 626))"
   ]
  },
  {
   "cell_type": "code",
   "execution_count": null,
   "metadata": {},
   "outputs": [],
   "source": [
    "print(do_timeit(\"compute_torques\", 626))"
   ]
  },
  {
   "cell_type": "code",
   "execution_count": null,
   "metadata": {},
   "outputs": [],
   "source": [
    "d = frispy.Disc()\n",
    "coords = d.initial_conditions_as_ordered_list\n",
    "\n",
    "def compute_derivatives():\n",
    "    _ = eom.compute_derivatives(0, np.array(coords))\n",
    "\n",
    "def compute_trajectory():\n",
    "    _ = d.compute_trajectory()"
   ]
  },
  {
   "cell_type": "code",
   "execution_count": null,
   "metadata": {},
   "outputs": [],
   "source": [
    "print(do_timeit(\"compute_derivatives\", 626))"
   ]
  },
  {
   "cell_type": "code",
   "execution_count": null,
   "metadata": {},
   "outputs": [],
   "source": [
    "print(do_timeit(\"compute_trajectory\", 10))"
   ]
  },
  {
   "cell_type": "code",
   "execution_count": null,
   "metadata": {},
   "outputs": [],
   "source": [
    "from scipy.integrate import solve_ivp, odeint\n",
    "\n",
    "def call_solver():\n",
    "    _ = solve_ivp(\n",
    "        fun=d.eom.compute_derivatives,\n",
    "        t_span=(0, 3),\n",
    "        y0=d.initial_conditions_as_ordered_list,\n",
    "    )"
   ]
  },
  {
   "cell_type": "code",
   "execution_count": null,
   "metadata": {},
   "outputs": [],
   "source": [
    "print(do_timeit(\"call_solver\", 10))"
   ]
  },
  {
   "cell_type": "code",
   "execution_count": null,
   "metadata": {},
   "outputs": [],
   "source": [
    "y0 = d.initial_conditions_as_ordered_list\n",
    "# y0[3] = 13.\n",
    "# y0[0] = 0.\n",
    "print(y0)"
   ]
  },
  {
   "cell_type": "code",
   "execution_count": null,
   "metadata": {},
   "outputs": [],
   "source": [
    "r = solve_ivp(\n",
    "    fun=d.eom.compute_derivatives,\n",
    "    t_span=(0, 3),\n",
    "    y0=y0,\n",
    ")"
   ]
  },
  {
   "cell_type": "code",
   "execution_count": null,
   "metadata": {},
   "outputs": [],
   "source": [
    "y0[0] = 0\n",
    "y0[3] = 13.\n",
    "def call_solver2():\n",
    "    _ = solve_ivp(\n",
    "        fun=d.eom.compute_derivatives,\n",
    "        t_span=(0, 3),\n",
    "        y0=y0,\n",
    "#        first_step=0.05,\n",
    "        rtol=2e-2,\n",
    "        atol=5e-3,\n",
    "#        method=\"LSODA\"\n",
    "    )"
   ]
  },
  {
   "cell_type": "code",
   "execution_count": null,
   "metadata": {},
   "outputs": [],
   "source": [
    "print(do_timeit(\"call_solver2\", 100))"
   ]
  },
  {
   "cell_type": "code",
   "execution_count": null,
   "metadata": {},
   "outputs": [],
   "source": [
    "t = np.linspace(0, 3, 1000)\n",
    "\n",
    "def compute_derivs_static(coords, time, disc):\n",
    "    return disc.eom.compute_derivatives(time, coords)\n",
    "\n",
    "def call_odeint():\n",
    "    _ = odeint(compute_derivs_static, t=t, y0=y0, args=(d,))"
   ]
  },
  {
   "cell_type": "code",
   "execution_count": null,
   "metadata": {},
   "outputs": [],
   "source": [
    "print(do_timeit(\"call_odeint\", 10))"
   ]
  },
  {
   "cell_type": "code",
   "execution_count": null,
   "metadata": {},
   "outputs": [],
   "source": []
  }
 ],
 "metadata": {
  "kernelspec": {
   "display_name": "Python 3",
   "language": "python",
   "name": "python3"
  },
  "language_info": {
   "codemirror_mode": {
    "name": "ipython",
    "version": 3
   },
   "file_extension": ".py",
   "mimetype": "text/x-python",
   "name": "python",
   "nbconvert_exporter": "python",
   "pygments_lexer": "ipython3",
   "version": "3.9.0"
  }
 },
 "nbformat": 4,
 "nbformat_minor": 4
}
